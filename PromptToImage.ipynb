{
  "nbformat": 4,
  "nbformat_minor": 0,
  "metadata": {
    "colab": {
      "provenance": [],
      "gpuType": "T4",
      "authorship_tag": "ABX9TyNUf7kgNdZNx5lhEPTgnFZe",
      "include_colab_link": true
    },
    "kernelspec": {
      "name": "python3",
      "display_name": "Python 3"
    },
    "language_info": {
      "name": "python"
    },
    "accelerator": "GPU"
  },
  "cells": [
    {
      "cell_type": "markdown",
      "metadata": {
        "id": "view-in-github",
        "colab_type": "text"
      },
      "source": [
        "<a href=\"https://colab.research.google.com/github/Hari-priya-Sridharan/PagesToPixels/blob/main/PromptToImage.ipynb\" target=\"_parent\"><img src=\"https://colab.research.google.com/assets/colab-badge.svg\" alt=\"Open In Colab\"/></a>"
      ]
    },
    {
      "cell_type": "code",
      "source": [
        "pip install openai"
      ],
      "metadata": {
        "colab": {
          "base_uri": "https://localhost:8080/"
        },
        "id": "_vAKpk1nHI-g",
        "outputId": "372bab5e-9d2c-4d55-fb63-c51a221a449c"
      },
      "execution_count": null,
      "outputs": [
        {
          "output_type": "stream",
          "name": "stdout",
          "text": [
            "Collecting openai\n",
            "  Downloading openai-1.13.3-py3-none-any.whl (227 kB)\n",
            "\u001b[?25l     \u001b[90m━━━━━━━━━━━━━━━━━━━━━━━━━━━━━━━━━━━━━━━━\u001b[0m \u001b[32m0.0/227.4 kB\u001b[0m \u001b[31m?\u001b[0m eta \u001b[36m-:--:--\u001b[0m\r\u001b[2K     \u001b[91m━━━━━━━━━━━━━━━━━━━━━━━━━━━━\u001b[0m\u001b[91m╸\u001b[0m\u001b[90m━━━━━━━━━━━\u001b[0m \u001b[32m163.8/227.4 kB\u001b[0m \u001b[31m4.8 MB/s\u001b[0m eta \u001b[36m0:00:01\u001b[0m\r\u001b[2K     \u001b[90m━━━━━━━━━━━━━━━━━━━━━━━━━━━━━━━━━━━━━━━━\u001b[0m \u001b[32m227.4/227.4 kB\u001b[0m \u001b[31m4.8 MB/s\u001b[0m eta \u001b[36m0:00:00\u001b[0m\n",
            "\u001b[?25hRequirement already satisfied: anyio<5,>=3.5.0 in /usr/local/lib/python3.10/dist-packages (from openai) (3.7.1)\n",
            "Requirement already satisfied: distro<2,>=1.7.0 in /usr/lib/python3/dist-packages (from openai) (1.7.0)\n",
            "Collecting httpx<1,>=0.23.0 (from openai)\n",
            "  Downloading httpx-0.27.0-py3-none-any.whl (75 kB)\n",
            "\u001b[2K     \u001b[90m━━━━━━━━━━━━━━━━━━━━━━━━━━━━━━━━━━━━━━━━\u001b[0m \u001b[32m75.6/75.6 kB\u001b[0m \u001b[31m9.7 MB/s\u001b[0m eta \u001b[36m0:00:00\u001b[0m\n",
            "\u001b[?25hRequirement already satisfied: pydantic<3,>=1.9.0 in /usr/local/lib/python3.10/dist-packages (from openai) (2.6.3)\n",
            "Requirement already satisfied: sniffio in /usr/local/lib/python3.10/dist-packages (from openai) (1.3.1)\n",
            "Requirement already satisfied: tqdm>4 in /usr/local/lib/python3.10/dist-packages (from openai) (4.66.2)\n",
            "Requirement already satisfied: typing-extensions<5,>=4.7 in /usr/local/lib/python3.10/dist-packages (from openai) (4.10.0)\n",
            "Requirement already satisfied: idna>=2.8 in /usr/local/lib/python3.10/dist-packages (from anyio<5,>=3.5.0->openai) (3.6)\n",
            "Requirement already satisfied: exceptiongroup in /usr/local/lib/python3.10/dist-packages (from anyio<5,>=3.5.0->openai) (1.2.0)\n",
            "Requirement already satisfied: certifi in /usr/local/lib/python3.10/dist-packages (from httpx<1,>=0.23.0->openai) (2024.2.2)\n",
            "Collecting httpcore==1.* (from httpx<1,>=0.23.0->openai)\n",
            "  Downloading httpcore-1.0.4-py3-none-any.whl (77 kB)\n",
            "\u001b[2K     \u001b[90m━━━━━━━━━━━━━━━━━━━━━━━━━━━━━━━━━━━━━━━━\u001b[0m \u001b[32m77.8/77.8 kB\u001b[0m \u001b[31m9.7 MB/s\u001b[0m eta \u001b[36m0:00:00\u001b[0m\n",
            "\u001b[?25hCollecting h11<0.15,>=0.13 (from httpcore==1.*->httpx<1,>=0.23.0->openai)\n",
            "  Downloading h11-0.14.0-py3-none-any.whl (58 kB)\n",
            "\u001b[2K     \u001b[90m━━━━━━━━━━━━━━━━━━━━━━━━━━━━━━━━━━━━━━━━\u001b[0m \u001b[32m58.3/58.3 kB\u001b[0m \u001b[31m7.2 MB/s\u001b[0m eta \u001b[36m0:00:00\u001b[0m\n",
            "\u001b[?25hRequirement already satisfied: annotated-types>=0.4.0 in /usr/local/lib/python3.10/dist-packages (from pydantic<3,>=1.9.0->openai) (0.6.0)\n",
            "Requirement already satisfied: pydantic-core==2.16.3 in /usr/local/lib/python3.10/dist-packages (from pydantic<3,>=1.9.0->openai) (2.16.3)\n",
            "Installing collected packages: h11, httpcore, httpx, openai\n",
            "Successfully installed h11-0.14.0 httpcore-1.0.4 httpx-0.27.0 openai-1.13.3\n"
          ]
        }
      ]
    },
    {
      "cell_type": "code",
      "source": [
        "pip install git+https://github.com/huggingface/diffusers.git"
      ],
      "metadata": {
        "colab": {
          "base_uri": "https://localhost:8080/"
        },
        "id": "bUmP7r4LRl5L",
        "outputId": "d0eedd6e-7e6e-4880-f3a3-5c53f3b48ae0"
      },
      "execution_count": null,
      "outputs": [
        {
          "output_type": "stream",
          "name": "stdout",
          "text": [
            "Collecting diffusers\n",
            "  Downloading diffusers-0.26.3-py3-none-any.whl (1.9 MB)\n",
            "\u001b[2K     \u001b[90m━━━━━━━━━━━━━━━━━━━━━━━━━━━━━━━━━━━━━━━━\u001b[0m \u001b[32m1.9/1.9 MB\u001b[0m \u001b[31m8.4 MB/s\u001b[0m eta \u001b[36m0:00:00\u001b[0m\n",
            "\u001b[?25hRequirement already satisfied: importlib-metadata in /usr/local/lib/python3.10/dist-packages (from diffusers) (7.0.1)\n",
            "Requirement already satisfied: filelock in /usr/local/lib/python3.10/dist-packages (from diffusers) (3.13.1)\n",
            "Requirement already satisfied: huggingface-hub>=0.20.2 in /usr/local/lib/python3.10/dist-packages (from diffusers) (0.20.3)\n",
            "Requirement already satisfied: numpy in /usr/local/lib/python3.10/dist-packages (from diffusers) (1.25.2)\n",
            "Requirement already satisfied: regex!=2019.12.17 in /usr/local/lib/python3.10/dist-packages (from diffusers) (2023.12.25)\n",
            "Requirement already satisfied: requests in /usr/local/lib/python3.10/dist-packages (from diffusers) (2.31.0)\n",
            "Requirement already satisfied: safetensors>=0.3.1 in /usr/local/lib/python3.10/dist-packages (from diffusers) (0.4.2)\n",
            "Requirement already satisfied: Pillow in /usr/local/lib/python3.10/dist-packages (from diffusers) (9.4.0)\n",
            "Requirement already satisfied: fsspec>=2023.5.0 in /usr/local/lib/python3.10/dist-packages (from huggingface-hub>=0.20.2->diffusers) (2023.6.0)\n",
            "Requirement already satisfied: tqdm>=4.42.1 in /usr/local/lib/python3.10/dist-packages (from huggingface-hub>=0.20.2->diffusers) (4.66.2)\n",
            "Requirement already satisfied: pyyaml>=5.1 in /usr/local/lib/python3.10/dist-packages (from huggingface-hub>=0.20.2->diffusers) (6.0.1)\n",
            "Requirement already satisfied: typing-extensions>=3.7.4.3 in /usr/local/lib/python3.10/dist-packages (from huggingface-hub>=0.20.2->diffusers) (4.10.0)\n",
            "Requirement already satisfied: packaging>=20.9 in /usr/local/lib/python3.10/dist-packages (from huggingface-hub>=0.20.2->diffusers) (23.2)\n",
            "Requirement already satisfied: zipp>=0.5 in /usr/local/lib/python3.10/dist-packages (from importlib-metadata->diffusers) (3.17.0)\n",
            "Requirement already satisfied: charset-normalizer<4,>=2 in /usr/local/lib/python3.10/dist-packages (from requests->diffusers) (3.3.2)\n",
            "Requirement already satisfied: idna<4,>=2.5 in /usr/local/lib/python3.10/dist-packages (from requests->diffusers) (3.6)\n",
            "Requirement already satisfied: urllib3<3,>=1.21.1 in /usr/local/lib/python3.10/dist-packages (from requests->diffusers) (2.0.7)\n",
            "Requirement already satisfied: certifi>=2017.4.17 in /usr/local/lib/python3.10/dist-packages (from requests->diffusers) (2024.2.2)\n",
            "Installing collected packages: diffusers\n",
            "Successfully installed diffusers-0.26.3\n"
          ]
        }
      ]
    },
    {
      "cell_type": "code",
      "source": [
        "pip install transformers accelerate safetensors"
      ],
      "metadata": {
        "id": "bG674HDFB4f1"
      },
      "execution_count": null,
      "outputs": []
    },
    {
      "cell_type": "markdown",
      "source": [
        "DALL-E-2 Model"
      ],
      "metadata": {
        "id": "6krllaFmN4L-"
      }
    },
    {
      "cell_type": "code",
      "source": [
        "# imports\n",
        "from openai import OpenAI  # OpenAI Python library to make API calls\n",
        "import configparser\n",
        "import requests  # used to download images\n",
        "import os  # used to access filepaths\n",
        "from datetime import datetime\n",
        "\n",
        "# Read API key from credential.ini\n",
        "config = configparser.ConfigParser()\n",
        "config.read('credential.ini')\n",
        "API_KEY = config['openai']['APIKEY']\n",
        "client = OpenAI(api_key=API_KEY)\n",
        "\n",
        "\n",
        "def read_file_and_process(filename):\n",
        "    path = create_directory()\n",
        "\n",
        "    with open(filename, 'r') as file:\n",
        "        prompts = file.read()\n",
        "\n",
        "    prompt = prompts.split('\\n\\n')\n",
        "    for i, prompt in enumerate(prompt):\n",
        "        generation_response = generate_dalle_img(prompt)\n",
        "        save_image(generation_response, i, path)\n",
        "\n",
        "\n",
        "def create_directory():\n",
        "    # Generate directory name based on current timestamp\n",
        "    timestamp = datetime.now().strftime(\"%Y-%m-%d_%H-%M-%S\")\n",
        "    directory_name = f\"output_{timestamp}\"\n",
        "    # os.makedirs(directory_name)\n",
        "    # set a directory to save DALL·E images to\n",
        "    image_dir_name = \"dalle_images\"\n",
        "    image_dir = os.path.join(os.curdir, image_dir_name, directory_name)\n",
        "\n",
        "    # create the directory if it doesn't yet exist\n",
        "    if not os.path.isdir(image_dir):\n",
        "        os.mkdir(image_dir)\n",
        "\n",
        "    # print the directory to save to\n",
        "    print(f\"{image_dir=}\")\n",
        "    return image_dir\n",
        "\n",
        "\n",
        "# create an image\n",
        "def generate_dalle_img(prompt):\n",
        "    # call the OpenAI API\n",
        "    generation_response = client.images.generate(\n",
        "            model=\"dall-e-2\",\n",
        "            prompt=prompt,\n",
        "            n=1,\n",
        "            response_format=\"url\",\n",
        "    )\n",
        "    # print response\n",
        "    print(generation_response)\n",
        "    return generation_response\n",
        "\n",
        "\n",
        "def single_prompt(prompt):\n",
        "    path = create_directory()\n",
        "    response = generate_dalle_img(prompt)\n",
        "    save_image(response, 0, path)\n",
        "\n",
        "\n",
        "def save_image(generation_response, index, image_dir_name):\n",
        "    # Generate filename with timestamp\n",
        "    timestamp = datetime.now().strftime('%Y-%m-%d_%H-%M-%S')\n",
        "    filename = f\"{image_dir_name}/image_{index}_{timestamp}.png\"\n",
        "\n",
        "    # Save the image\n",
        "    # extract image URL from response\n",
        "    generated_image_url = generation_response.data[\n",
        "        0].url\n",
        "    # download the image\n",
        "    generated_image = requests.get(\n",
        "            generated_image_url).content\n",
        "    # write the image to the file\n",
        "    with open(filename, \"wb\") as image_file:\n",
        "        image_file.write(generated_image)\n",
        "    # print the image\n",
        "    print(f\"Image {index} saved as {filename}\")\n",
        "\n",
        "filename = 'output.txt'  # Replace with your file path\n",
        "read_file_and_process(filename)\n",
        "\n",
        "#single_prompt(\"king of sea sharks\")\n"
      ],
      "metadata": {
        "id": "0bHnZCmcQUsu"
      },
      "execution_count": null,
      "outputs": []
    },
    {
      "cell_type": "markdown",
      "source": [
        "Playground AI  - Stable diffusion Model"
      ],
      "metadata": {
        "id": "m268vJ0wSDfw"
      }
    },
    {
      "cell_type": "code",
      "source": [
        "# imports\n",
        "import os  # used to access filepaths\n",
        "from datetime import datetime\n",
        "import torch\n",
        "from diffusers import DiffusionPipeline\n",
        "\n",
        "\n",
        "def read_file_and_process(filename):\n",
        "    path = create_directory()\n",
        "    with open(filename, 'r') as file:\n",
        "        prompts = file.read()\n",
        "\n",
        "    prompt = prompts.split('\\n\\n')\n",
        "    for i, prompt in enumerate(prompt):\n",
        "        generate_playground_img(prompt, i, path)\n",
        "\n",
        "\n",
        "def create_directory():\n",
        "    # Generate directory name based on current timestamp\n",
        "    timestamp = datetime.now().strftime(\"%Y-%m-%d_%H-%M-%S\")\n",
        "    directory_name = f\"output_{timestamp}\"\n",
        "    # os.makedirs(directory_name)\n",
        "    # set a directory to save Playground images to\n",
        "    image_dir_name = \"playground_images\"\n",
        "    # create the directory if it doesn't yet exist\n",
        "    if not os.path.isdir(image_dir_name):\n",
        "        os.mkdir(image_dir_name)\n",
        "\n",
        "    image_dir = os.path.join(os.curdir, image_dir_name, directory_name)\n",
        "\n",
        "    # create the directory if it doesn't yet exist\n",
        "    if not os.path.isdir(image_dir):\n",
        "        os.mkdir(image_dir)\n",
        "\n",
        "    # print the directory to save to\n",
        "    print(f\"{image_dir=}\")\n",
        "    return image_dir\n",
        "\n",
        "\n",
        "# create an image\n",
        "def generate_playground_img(prompt,index,path):\n",
        "    pipe = DiffusionPipeline.from_pretrained(\n",
        "    \"playgroundai/playground-v2.5-1024px-aesthetic\",\n",
        "    torch_dtype=torch.float16,\n",
        "    variant=\"fp16\",\n",
        "    ).to(\"cuda\")\n",
        "\n",
        "\n",
        "    # Generate filename with timestamp\n",
        "\n",
        "    timestamp = datetime.now().strftime('%Y-%m-%d_%H-%M-%S')\n",
        "    filename = f\"{path}/image_{index}_{timestamp}.png\"\n",
        "\n",
        "    image = pipe(prompt=prompt, num_inference_steps=50, guidance_scale=3).images[0]\n",
        "    image.save(filename)\n",
        "    print(f\"Image {index} saved as {filename}\")\n",
        "\n",
        "\n",
        "def single_prompt(prompt):\n",
        "    generate_playground_img(prompt, 0)\n",
        "\n",
        "\n",
        "filename = 'prompts.txt'  # Replace with your file path\n",
        "read_file_and_process(filename)\n",
        "\n",
        "#single_prompt(\"Boy in a boat with tiger in the middle of the ocean\")"
      ],
      "metadata": {
        "id": "q7AXQ32lQcA9"
      },
      "execution_count": null,
      "outputs": []
    }
  ]
}